{
 "cells": [
  {
   "cell_type": "code",
   "execution_count": 1,
   "metadata": {},
   "outputs": [],
   "source": [
    "import pandas as pd\n",
    "import numpy as np\n",
    "import matplotlib.pyplot as plt\n",
    "import seaborn as sns\n"
   ]
  },
  {
   "cell_type": "code",
   "execution_count": 6,
   "metadata": {},
   "outputs": [],
   "source": [
    "# Import regression algorithms from scikit-learn\n",
    "from sklearn.linear_model import LinearRegression, Ridge, Lasso, ElasticNet\n",
    "from sklearn.tree import DecisionTreeRegressor\n",
    "from sklearn.ensemble import RandomForestRegressor, GradientBoostingRegressor, AdaBoostRegressor\n",
    "from sklearn.svm import SVR\n",
    "from sklearn.neighbors import KNeighborsRegressor\n",
    "from xgboost import XGBRegressor\n",
    "from sklearn.neural_network import MLPRegressor\n",
    "\n",
    "from sklearn.model_selection import RandomizedSearchCV\n",
    "\n",
    "# Import evaluation metrics from scikit-learn\n",
    "from sklearn.metrics import mean_squared_error, mean_absolute_error, r2_score"
   ]
  },
  {
   "cell_type": "code",
   "execution_count": 10,
   "metadata": {},
   "outputs": [],
   "source": [
    "df = pd.read_csv('data/stud.csv')"
   ]
  },
  {
   "cell_type": "code",
   "execution_count": 11,
   "metadata": {},
   "outputs": [],
   "source": [
    "x = df.drop(columns=['math_score'],axis=1)\n",
    "y = df['math_score']"
   ]
  },
  {
   "cell_type": "code",
   "execution_count": 12,
   "metadata": {},
   "outputs": [
    {
     "name": "stdout",
     "output_type": "stream",
     "text": [
      "numerical featues 3 ['math_score', 'reading_score', 'writing_score']\n",
      "categorical featues 5 ['gender', 'race_ethnicity', 'parental_level_of_education', 'lunch', 'test_preparation_course']\n"
     ]
    }
   ],
   "source": [
    "num_features = [features for features in df.columns if df[features].dtype !='O']\n",
    "cat_features = [features for features in df.columns if df[features].dtype =='O']\n",
    "\n",
    "print('numerical featues',len(num_features),num_features)\n",
    "print('categorical featues',len(cat_features),cat_features)"
   ]
  },
  {
   "cell_type": "code",
   "execution_count": 13,
   "metadata": {},
   "outputs": [],
   "source": [
    "num_features = x.select_dtypes(exclude='object').columns\n",
    "cat_features = x.select_dtypes(include='object').columns\n",
    "\n",
    "from sklearn.preprocessing import OneHotEncoder,StandardScaler\n",
    "from sklearn.compose import ColumnTransformer\n",
    "\n",
    "numeric_transformer = StandardScaler()\n",
    "categoric_transformer = OneHotEncoder()\n",
    "\n",
    "preprocessor = ColumnTransformer(\n",
    "    [\n",
    "        (\"OneHotEncoder\",categoric_transformer,cat_features),\n",
    "        (\"StandardScaler\",numeric_transformer,num_features),\n",
    "    ]\n",
    ")\n",
    "\n",
    "x = preprocessor.fit_transform(x)"
   ]
  },
  {
   "cell_type": "code",
   "execution_count": 14,
   "metadata": {},
   "outputs": [],
   "source": [
    "from sklearn.model_selection import train_test_split\n",
    "x_train,x_test,y_train,y_test = train_test_split(x,y,test_size=0.33,random_state=42)"
   ]
  },
  {
   "cell_type": "code",
   "execution_count": 17,
   "metadata": {},
   "outputs": [],
   "source": [
    "def evaluate(true,predicted):\n",
    "    mse = mean_squared_error(true,predicted)\n",
    "    mae = mean_absolute_error(true,predicted)\n",
    "    rmse = np.sqrt(mse)\n",
    "    r2 = r2_score(true,predicted)\n",
    "    return mae,rmse,r2\n"
   ]
  },
  {
   "cell_type": "code",
   "execution_count": 23,
   "metadata": {},
   "outputs": [
    {
     "name": "stdout",
     "output_type": "stream",
     "text": [
      "Linear Regression\n",
      "model performance on training set\n",
      "Training: MAE: 4.21, RMSE: 5.27, R2: 0.88\n",
      "--------------------------------------------------\n",
      "model performance on test set\n",
      "Test: MAE: 4.38, RMSE: 5.50, R2: 0.88\n",
      "==================================================\n",
      "\n",
      "\n",
      "Ridge Regression\n",
      "model performance on training set\n",
      "Training: MAE: 4.21, RMSE: 5.27, R2: 0.88\n",
      "--------------------------------------------------\n",
      "model performance on test set\n",
      "Test: MAE: 4.37, RMSE: 5.50, R2: 0.88\n",
      "==================================================\n",
      "\n",
      "\n",
      "Lasso Regression\n",
      "model performance on training set\n",
      "Training: MAE: 5.18, RMSE: 6.54, R2: 0.81\n",
      "--------------------------------------------------\n",
      "model performance on test set\n",
      "Test: MAE: 5.35, RMSE: 6.81, R2: 0.81\n",
      "==================================================\n",
      "\n",
      "\n",
      "Elastic Net\n",
      "model performance on training set\n",
      "Training: MAE: 6.11, RMSE: 7.69, R2: 0.73\n",
      "--------------------------------------------------\n",
      "model performance on test set\n",
      "Test: MAE: 6.42, RMSE: 7.97, R2: 0.74\n",
      "==================================================\n",
      "\n",
      "\n",
      "Decision Tree\n",
      "model performance on training set\n",
      "Training: MAE: 0.02, RMSE: 0.31, R2: 1.00\n",
      "--------------------------------------------------\n",
      "model performance on test set\n",
      "Test: MAE: 6.58, RMSE: 8.41, R2: 0.71\n",
      "==================================================\n",
      "\n",
      "\n",
      "Random Forest\n",
      "model performance on training set\n",
      "Training: MAE: 1.86, RMSE: 2.35, R2: 0.98\n",
      "--------------------------------------------------\n",
      "model performance on test set\n",
      "Test: MAE: 4.80, RMSE: 6.07, R2: 0.85\n",
      "==================================================\n",
      "\n",
      "\n",
      "Gradient Boosting\n",
      "model performance on training set\n",
      "Training: MAE: 3.62, RMSE: 4.55, R2: 0.91\n",
      "--------------------------------------------------\n",
      "model performance on test set\n",
      "Test: MAE: 4.56, RMSE: 5.68, R2: 0.87\n",
      "==================================================\n",
      "\n",
      "\n",
      "AdaBoost\n",
      "model performance on training set\n",
      "Training: MAE: 4.79, RMSE: 5.86, R2: 0.85\n",
      "--------------------------------------------------\n",
      "model performance on test set\n",
      "Test: MAE: 4.95, RMSE: 6.31, R2: 0.84\n",
      "==================================================\n",
      "\n",
      "\n",
      "SVM\n",
      "model performance on training set\n",
      "Training: MAE: 5.03, RMSE: 6.89, R2: 0.79\n",
      "--------------------------------------------------\n",
      "model performance on test set\n",
      "Test: MAE: 5.72, RMSE: 8.15, R2: 0.73\n",
      "==================================================\n",
      "\n",
      "\n",
      "KNN\n",
      "model performance on training set\n",
      "Training: MAE: 4.60, RMSE: 5.71, R2: 0.85\n",
      "--------------------------------------------------\n",
      "model performance on test set\n",
      "Test: MAE: 5.71, RMSE: 7.37, R2: 0.78\n",
      "==================================================\n",
      "\n",
      "\n",
      "XGBoost\n",
      "model performance on training set\n",
      "Training: MAE: 0.48, RMSE: 0.74, R2: 1.00\n",
      "--------------------------------------------------\n",
      "model performance on test set\n",
      "Test: MAE: 5.23, RMSE: 6.50, R2: 0.83\n",
      "==================================================\n",
      "\n",
      "\n"
     ]
    }
   ],
   "source": [
    "models = {\n",
    "    \"Linear Regression\": LinearRegression(),\n",
    "    \"Ridge Regression\": Ridge(),\n",
    "    \"Lasso Regression\": Lasso(),\n",
    "    \"Elastic Net\": ElasticNet(),\n",
    "    \"Decision Tree\": DecisionTreeRegressor(),\n",
    "    \"Random Forest\": RandomForestRegressor(),\n",
    "    \"Gradient Boosting\": GradientBoostingRegressor(),\n",
    "    \"AdaBoost\": AdaBoostRegressor(),\n",
    "    \"SVM\": SVR(),\n",
    "    \"KNN\": KNeighborsRegressor(),\n",
    "    \"XGBoost\": XGBRegressor(),\n",
    "}\n",
    "model_list = []\n",
    "r2_list = []\n",
    "\n",
    "for i in range(len(models)):\n",
    "    model = list(models.values())[i]\n",
    "    model.fit(x_train,y_train)\n",
    "    \n",
    "    y_train_pred = model.predict(x_train)\n",
    "    y_test_pred = model.predict(x_test)\n",
    "\n",
    "    model_train_mae,model_train_rmse,model_train_r2 = evaluate(y_train,y_train_pred)\n",
    "\n",
    "    model_test_mae,model_test_rmse,model_test_r2 = evaluate(y_test,y_test_pred)\n",
    "\n",
    "    print(list(models.keys())[i])\n",
    "    model_list.append(list(models.keys())[i])\n",
    "    r2_list.append(model_test_r2)\n",
    "\n",
    "    print(\"model performance on training set\")\n",
    "\n",
    "    print(\"Training: MAE: {:.2f}, RMSE: {:.2f}, R2: {:.2f}\".format(model_train_mae,model_train_rmse,model_train_r2))\n",
    "\n",
    "    print(\"-\"*50)\n",
    "\n",
    "    print(\"model performance on test set\")\n",
    "\n",
    "    print(\"Test: MAE: {:.2f}, RMSE: {:.2f}, R2: {:.2f}\".format(model_test_mae,model_test_rmse,model_test_r2))\n",
    "\n",
    "    print(\"=\"*50)\n",
    "    print(\"\\n\")\n",
    "\n",
    "\n"
   ]
  },
  {
   "cell_type": "code",
   "execution_count": 21,
   "metadata": {},
   "outputs": [
    {
     "data": {
      "text/plain": [
       "['Linear Regression',\n",
       " 'Ridge Regression',\n",
       " 'Lasso Regression',\n",
       " 'Elastic Net',\n",
       " 'Decision Tree',\n",
       " 'Random Forest',\n",
       " 'Gradient Boosting',\n",
       " 'AdaBoost',\n",
       " 'SVM',\n",
       " 'KNN',\n",
       " 'XGBoost']"
      ]
     },
     "execution_count": 21,
     "metadata": {},
     "output_type": "execute_result"
    }
   ],
   "source": [
    "model_list"
   ]
  },
  {
   "cell_type": "code",
   "execution_count": 24,
   "metadata": {},
   "outputs": [
    {
     "data": {
      "text/plain": [
       "[0.8753252282107616,\n",
       " 0.8756024232806043,\n",
       " 0.8091873451472333,\n",
       " 0.7383422365076477,\n",
       " 0.7087688473377418,\n",
       " 0.8479939219423879,\n",
       " 0.8671864311761569,\n",
       " 0.8358749028768204,\n",
       " 0.7261533399139886,\n",
       " 0.775936396012358,\n",
       " 0.8258627653121948]"
      ]
     },
     "execution_count": 24,
     "metadata": {},
     "output_type": "execute_result"
    }
   ],
   "source": [
    "r2_list"
   ]
  },
  {
   "cell_type": "code",
   "execution_count": 25,
   "metadata": {},
   "outputs": [
    {
     "data": {
      "text/html": [
       "<div>\n",
       "<style scoped>\n",
       "    .dataframe tbody tr th:only-of-type {\n",
       "        vertical-align: middle;\n",
       "    }\n",
       "\n",
       "    .dataframe tbody tr th {\n",
       "        vertical-align: top;\n",
       "    }\n",
       "\n",
       "    .dataframe thead th {\n",
       "        text-align: right;\n",
       "    }\n",
       "</style>\n",
       "<table border=\"1\" class=\"dataframe\">\n",
       "  <thead>\n",
       "    <tr style=\"text-align: right;\">\n",
       "      <th></th>\n",
       "      <th>Model</th>\n",
       "      <th>R2 Score</th>\n",
       "    </tr>\n",
       "  </thead>\n",
       "  <tbody>\n",
       "    <tr>\n",
       "      <th>1</th>\n",
       "      <td>Ridge Regression</td>\n",
       "      <td>0.875602</td>\n",
       "    </tr>\n",
       "    <tr>\n",
       "      <th>0</th>\n",
       "      <td>Linear Regression</td>\n",
       "      <td>0.875325</td>\n",
       "    </tr>\n",
       "    <tr>\n",
       "      <th>6</th>\n",
       "      <td>Gradient Boosting</td>\n",
       "      <td>0.867186</td>\n",
       "    </tr>\n",
       "    <tr>\n",
       "      <th>5</th>\n",
       "      <td>Random Forest</td>\n",
       "      <td>0.847994</td>\n",
       "    </tr>\n",
       "    <tr>\n",
       "      <th>7</th>\n",
       "      <td>AdaBoost</td>\n",
       "      <td>0.835875</td>\n",
       "    </tr>\n",
       "    <tr>\n",
       "      <th>10</th>\n",
       "      <td>XGBoost</td>\n",
       "      <td>0.825863</td>\n",
       "    </tr>\n",
       "    <tr>\n",
       "      <th>2</th>\n",
       "      <td>Lasso Regression</td>\n",
       "      <td>0.809187</td>\n",
       "    </tr>\n",
       "    <tr>\n",
       "      <th>9</th>\n",
       "      <td>KNN</td>\n",
       "      <td>0.775936</td>\n",
       "    </tr>\n",
       "    <tr>\n",
       "      <th>3</th>\n",
       "      <td>Elastic Net</td>\n",
       "      <td>0.738342</td>\n",
       "    </tr>\n",
       "    <tr>\n",
       "      <th>8</th>\n",
       "      <td>SVM</td>\n",
       "      <td>0.726153</td>\n",
       "    </tr>\n",
       "    <tr>\n",
       "      <th>4</th>\n",
       "      <td>Decision Tree</td>\n",
       "      <td>0.708769</td>\n",
       "    </tr>\n",
       "  </tbody>\n",
       "</table>\n",
       "</div>"
      ],
      "text/plain": [
       "                Model  R2 Score\n",
       "1    Ridge Regression  0.875602\n",
       "0   Linear Regression  0.875325\n",
       "6   Gradient Boosting  0.867186\n",
       "5       Random Forest  0.847994\n",
       "7            AdaBoost  0.835875\n",
       "10            XGBoost  0.825863\n",
       "2    Lasso Regression  0.809187\n",
       "9                 KNN  0.775936\n",
       "3         Elastic Net  0.738342\n",
       "8                 SVM  0.726153\n",
       "4       Decision Tree  0.708769"
      ]
     },
     "execution_count": 25,
     "metadata": {},
     "output_type": "execute_result"
    }
   ],
   "source": [
    "pd.DataFrame(list(zip(model_list,r2_list)),columns=['Model','R2 Score']).sort_values(by='R2 Score',ascending=False)"
   ]
  }
 ],
 "metadata": {
  "kernelspec": {
   "display_name": "Python 3",
   "language": "python",
   "name": "python3"
  },
  "language_info": {
   "codemirror_mode": {
    "name": "ipython",
    "version": 3
   },
   "file_extension": ".py",
   "mimetype": "text/x-python",
   "name": "python",
   "nbconvert_exporter": "python",
   "pygments_lexer": "ipython3",
   "version": "3.12.0"
  }
 },
 "nbformat": 4,
 "nbformat_minor": 2
}
